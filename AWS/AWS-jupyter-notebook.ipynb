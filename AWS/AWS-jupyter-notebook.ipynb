{
 "cells": [
  {
   "cell_type": "markdown",
   "metadata": {
    "slideshow": {
     "slide_type": "slide"
    }
   },
   "source": [
    "# Jupyter NB on AWS\n"
   ]
  },
  {
   "cell_type": "markdown",
   "metadata": {
    "slideshow": {
     "slide_type": "slide"
    }
   },
   "source": [
    "### LEARNING OBJECTIVES\n",
    "*After this lesson, you will be able to:*\n",
    "- Launch a clean EC2 box\n",
    "- Install anaconda + additional packages\n",
    "- Create a jupyter notebook\n",
    "- Use scp to move files between your AWS remote and your local machine"
   ]
  },
  {
   "cell_type": "markdown",
   "metadata": {
    "slideshow": {
     "slide_type": "slide"
    }
   },
   "source": [
    "### Demo/Guided Practice: Launching an EC2 Box\n",
    "\n",
    "Launch and EC-2 box with Ubuntu.  Free tier is fine!"
   ]
  },
  {
   "cell_type": "markdown",
   "metadata": {
    "slideshow": {
     "slide_type": "slide"
    }
   },
   "source": [
    "### Step 1:\n",
    "\n",
    "Log into AWS and select EC2.\n",
    "\n",
    "<img src=\"http://i.imgur.com/xBVVEQp.png\">"
   ]
  },
  {
   "cell_type": "markdown",
   "metadata": {
    "slideshow": {
     "slide_type": "slide"
    }
   },
   "source": [
    "### Step 2:\n",
    "\n",
    "In the EC2 dashboard, click `Launch Instance`.\n",
    "\n",
    "<img src=\"http://i.imgur.com/xVd41n6.png\">"
   ]
  },
  {
   "cell_type": "markdown",
   "metadata": {
    "slideshow": {
     "slide_type": "slide"
    }
   },
   "source": [
    "### Step 3:\n",
    "\n",
    "Select the clean ubuntu instance to launch, and continue on with the defaults.\n",
    "\n"
   ]
  },
  {
   "cell_type": "markdown",
   "metadata": {
    "slideshow": {
     "slide_type": "slide"
    }
   },
   "source": [
    "### Step 4:\n",
    "\n",
    "Choose the pre-selected t2-micro box. Then click - at the top `Step 6: Configure Security Group`\n",
    "    \n"
   ]
  },
  {
   "cell_type": "markdown",
   "metadata": {
    "slideshow": {
     "slide_type": "slide"
    }
   },
   "source": [
    "### Step 5:\n",
    "\n",
    "Make sure that in security groups for the box that port 80 (http),  22 (ssh), 443 are open and reachable from anywhere. Then at the bottom, click `Review and Launch`.  Use your existing key-pair.\n",
    "\n",
    "<img src=\"./assets/secgrp.png\">"
   ]
  },
  {
   "cell_type": "markdown",
   "metadata": {
    "slideshow": {
     "slide_type": "slide"
    }
   },
   "source": [
    "### Step 6:\n",
    "\n",
    "Connect to the instance using ssh\n"
   ]
  },
  {
   "cell_type": "markdown",
   "metadata": {
    "slideshow": {
     "slide_type": "slide"
    }
   },
   "source": [
    "## Setting up the instance\n",
    "\n",
    "Since we launched a clean ubuntu box, we don't have anaconda or any of the packages contained in it.  So let's install them!\n",
    "\n",
    "Type:\n",
    "- `wget https://repo.continuum.io/archive/Anaconda2-4.4.0-Linux-x86_64.sh`\n",
    "    - This gets the latest version of the Anaconda P2.7 installer for Linux.  You might want to update this as new versions are released.\n",
    "    \n",
    "- ` bash Anaconda2-4.4.0-Linux-x86_64.sh`\n",
    "    - This installs that file\n",
    "    \n",
    "    \n",
    "Click through the installation by hitting ENTER.  Type yes to agree to conditions.  Right at the end, change the answer to \"yes\" for adding it to your path.\n",
    "\n",
    "To check your installation, type\n",
    "\n",
    "- ` source .bashrc`\n",
    "- `which python`"
   ]
  },
  {
   "cell_type": "markdown",
   "metadata": {
    "slideshow": {
     "slide_type": "slide"
    }
   },
   "source": [
    "## Setting up a password for your jupyter notebook connection\n",
    "\n",
    "Since we're going to accessing our files on a remote instance with our browser, we're going to create a password.\n",
    "\n",
    "`ipython`\n",
    "\n",
    "`from IPython.lib import passwd`\n",
    "\n",
    "`passwd()`\n",
    "\n",
    "Copy and paste this `SHA` password somewhere to save it!\n",
    "You also need to remember the password you typed in...\n",
    "\n",
    "`exit`"
   ]
  },
  {
   "cell_type": "markdown",
   "metadata": {
    "slideshow": {
     "slide_type": "subslide"
    }
   },
   "source": [
    "## Security Certificate\n",
    "\n",
    "Since we'll be using https to access the notebook, we need to set up certs\n",
    "\n",
    "- `mkdir certs`\n",
    "- `cd certs`\n",
    "- `sudo openssl req -x509 -nodes -days 365 -newkey rsa:1024 -keyout mycert.pem -out mycert.pem`"
   ]
  },
  {
   "cell_type": "markdown",
   "metadata": {
    "slideshow": {
     "slide_type": "slide"
    }
   },
   "source": [
    "## Jupyter config\n",
    "\n",
    "Lastly, we need to tell jupyter how to use the password and certificate.  And which port to let us access to use the notebook.\n",
    "\n",
    "- `jupyter notebook --generate-config`\n",
    "\n",
    "- `cd ~/.jupyter/`\n",
    "\n",
    "- `vim jupyter_notebook_config.py`\n"
   ]
  },
  {
   "cell_type": "markdown",
   "metadata": {
    "slideshow": {
     "slide_type": "-"
    }
   },
   "source": [
    "Anywhere in the file, insert the following:\n",
    "\n",
    "```python\n",
    "c = get_config()\n",
    "c.IPKernelApp.pylab = 'inline'  # this allows inline plotting\n",
    "c.NotebookApp.certfile = u'/home/ubuntu/certs/mycert.pem' #this is where we created the cert\n",
    "c.NotebookApp.ip = '*'\n",
    "c.NotebookApp.open_browser = False  #blocks a browser popup\n",
    "c.NotebookApp.password = u'sha1:98ff0e580111:12798c72623a6eecd54b51c006b1050f0ac1a62d'  #UPDATE THIS TO YOURS!\n",
    "c.NotebookApp.port = 8888\n",
    "```\n",
    "\n",
    "NOTE: you need to update the password!!\n",
    "\n",
    "Save and close using `:wq`"
   ]
  },
  {
   "cell_type": "markdown",
   "metadata": {
    "slideshow": {
     "slide_type": "slide"
    }
   },
   "source": [
    "## Create a folder for your notebooks\n",
    "\n",
    "- `cd ~`\n",
    "- `mkdir nb`\n",
    "- `cd nb`"
   ]
  },
  {
   "cell_type": "markdown",
   "metadata": {
    "slideshow": {
     "slide_type": "slide"
    }
   },
   "source": [
    "## Launch and connect!\n",
    "\n",
    "`jupyter notebook` to launch \n",
    "\n",
    "You can now connect to jupyter via your browser:\n",
    "\n",
    "`https://<YOUR_PUBLIC_DNS>:8888/`\n",
    "\n",
    "It'll be something like `https://ec2-34-230-92-158.compute-1.amazonaws.com:8888`\n",
    "\n",
    "You'll get a scary page... just go to `Advanced` and connect."
   ]
  },
  {
   "cell_type": "markdown",
   "metadata": {
    "slideshow": {
     "slide_type": "slide"
    }
   },
   "source": [
    "## Voila!\n",
    "\n",
    ">Check: what if I want to be able to move notebooks to and from my local machine?  Or data?"
   ]
  },
  {
   "cell_type": "markdown",
   "metadata": {
    "slideshow": {
     "slide_type": "subslide"
    }
   },
   "source": [
    "> You can use S3 or scp"
   ]
  },
  {
   "cell_type": "markdown",
   "metadata": {
    "slideshow": {
     "slide_type": "slide"
    }
   },
   "source": [
    "## SCP\n",
    "\n",
    "Secure copy allows you to transfer files between hosts.  We can use it to move files from your local machine to the ec-2 instance, and vice versa.\n",
    "\n",
    "The syntax is very similar to ssh.\n",
    "\n",
    "`scp <key_info> <file to move> <place to put it>`"
   ]
  },
  {
   "cell_type": "markdown",
   "metadata": {
    "slideshow": {
     "slide_type": "slide"
    }
   },
   "source": [
    "## Move a file from your computer to your ec-2 instance\n",
    "\n",
    "Create a file called `my_file.txt` on your Desktop.  We want to move this file to our `nb` directory.\n",
    "\n",
    "From your local machine:\n",
    "\n",
    "`scp -i \"~/.ssh/ga_keypair.pem\" ~/Desktop/my_file.txt ubuntu@ec2-34-230-92-158.compute-1.amazonaws.com:~/nb`"
   ]
  },
  {
   "cell_type": "markdown",
   "metadata": {
    "slideshow": {
     "slide_type": "slide"
    }
   },
   "source": [
    "## Move a file from your ec-2 instance to your computer\n",
    "\n",
    "Create a file called `my_ec2_file.txt` in the `nb` directory.  We want to move this file to our `Documents` directory.\n",
    "\n",
    "From your local machine:\n",
    "\n",
    "`scp -i \"~/.ssh/ga_keypair.pem\" ubuntu@ec2-34-230-92-158.compute-1.amazonaws.com:~/nb/my_ec2_file.txt ~/Documents/a_file.txt `"
   ]
  },
  {
   "cell_type": "markdown",
   "metadata": {
    "slideshow": {
     "slide_type": "slide"
    }
   },
   "source": [
    "> Check: what if I want to copy full directories?"
   ]
  },
  {
   "cell_type": "markdown",
   "metadata": {
    "slideshow": {
     "slide_type": "subslide"
    }
   },
   "source": [
    "> -r"
   ]
  },
  {
   "cell_type": "markdown",
   "metadata": {
    "collapsed": true,
    "slideshow": {
     "slide_type": "slide"
    }
   },
   "source": [
    "## Conclusion:\n",
    "We saw how to:\n",
    "- set up an EC-2 instance to run jupyter\n",
    "- connect via a web browser\n",
    "- transfer files between hosts"
   ]
  },
  {
   "cell_type": "code",
   "execution_count": null,
   "metadata": {
    "collapsed": true
   },
   "outputs": [],
   "source": []
  }
 ],
 "metadata": {
  "anaconda-cloud": {},
  "celltoolbar": "Slideshow",
  "kernelspec": {
   "display_name": "Python 2",
   "language": "python",
   "name": "python2"
  },
  "language_info": {
   "codemirror_mode": {
    "name": "ipython",
    "version": 2
   },
   "file_extension": ".py",
   "mimetype": "text/x-python",
   "name": "python",
   "nbconvert_exporter": "python",
   "pygments_lexer": "ipython2",
   "version": "2.7.13"
  }
 },
 "nbformat": 4,
 "nbformat_minor": 1
}
